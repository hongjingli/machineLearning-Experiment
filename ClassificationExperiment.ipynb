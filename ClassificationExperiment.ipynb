{
 "cells": [
  {
   "cell_type": "code",
   "execution_count": 30,
   "metadata": {
    "collapsed": false
   },
   "outputs": [
    {
     "name": "stdout",
     "output_type": "stream",
     "text": [
      "0.8840579710144928\n",
      "[ 366.10729781] \n",
      " [ 124.31306384]\n"
     ]
    },
    {
     "data": {
      "image/png": "[encoded data removed]",
      "text/plain": [
       "<matplotlib.figure.Figure at 0x219335b28d0>"
      ]
     },
     "metadata": {},
     "output_type": "display_data"
    }
   ],
   "source": [
    "import numpy as np\n",
    "import matplotlib.pyplot as plt\n",
    "from sklearn.cross_validation import train_test_split\n",
    "from sklearn.datasets import load_svmlight_file\n",
    "\n",
    "G=np.zeros((15,1))\n",
    "D=np.zeros((15,1))\n",
    "\n",
    "L_train=np.zeros((800,1))\n",
    "L_test=np.zeros((800,1))\n",
    "\n",
    "C = 2\n",
    "learningRate=0.015\n",
    "\n",
    "data = load_svmlight_file(\"australian_scale.txt\")\n",
    "X, y = data[0], data[1]\n",
    "\n",
    "X=X.dot(np.eye(14))\n",
    "b=np.ones((690,1))\n",
    "X=np.column_stack((X,b))\n",
    "\n",
    "#多次试验后，random_state为10的时候准确率true最高\n",
    "X_train, X_test, y_train, y_test = train_test_split(X, y, test_size=0.3, random_state=10)\n",
    "\n",
    "w=np.zeros((15,1))\n",
    "\n",
    "#690\n",
    "m=X.shape[0]\n",
    "#483\n",
    "n_train=X_train.shape[0]\n",
    "#207\n",
    "n_test=X_test.shape[0]\n",
    "\n",
    "y = y.reshape(690,1)\n",
    "y_train = y_train.reshape(483,1)\n",
    "y_test = y_test.reshape(207,1)\n",
    "\n",
    "\n",
    "for i in range(800):\n",
    "    M_train = 1-y_train*(X_train.dot(w))\n",
    "    M_train[M_train<0] = 0\n",
    "    M_test = 1-y_test*(X_test.dot(w))\n",
    "    M_test[M_test<0] = 0\n",
    "    for j in range(n_train):\n",
    "        if M_train[j]>0:\n",
    "            G = G+(y_train[j]*X_train[j,:]).reshape(15,1)\n",
    "    G=w-C*G/n_train\n",
    "    D=-G\n",
    "    w=w+learningRate*D\n",
    "    #hinge损失\n",
    "    L_train[i] = sum(w*w)/2 + C*sum(M_train)\n",
    "    L_test[i] = sum(w*w)/2 + C*sum(M_test)\n",
    "\n",
    "f = X_test.dot(w)\n",
    "for k in range(n_test):\n",
    "    if f[k]>=0:\n",
    "        f[k]=1\n",
    "    else:\n",
    "        f[k]=-1\n",
    "\n",
    "true=0\n",
    "for j in range(n_test):\n",
    "    if f[j]==y_test[j]:\n",
    "        true = true + 1;\n",
    "\n",
    "T = true/n_test\n",
    "x = np.arange(0,800,1)\n",
    "%matplotlib inline\n",
    "plt.plot(x,L_train,'r',label='L_train')\n",
    "plt.plot(x,L_test,'g',label='L_test')\n",
    "plt.legend(loc='upper right')\n",
    "plt.xlabel('iterator times(learningRate=0.015)')\n",
    "plt.ylabel('Loss')\n",
    "print(T)\n",
    "\n",
    "\n"
   ]
  },
  {
   "cell_type": "code",
   "execution_count": 1,
   "metadata": {
    "collapsed": false
   },
   "outputs": [
    {
     "ename": "NameError",
     "evalue": "name 'P' is not defined",
     "output_type": "error",
     "traceback": [
      "\u001b[0;31m---------------------------------------------------------------------------\u001b[0m",
      "\u001b[0;31mNameError\u001b[0m                                 Traceback (most recent call last)",
      "\u001b[0;32m<ipython-input-1-5c6d81c07f7c>\u001b[0m in \u001b[0;36m<module>\u001b[0;34m()\u001b[0m\n\u001b[0;32m----> 1\u001b[0;31m \u001b[0mP\u001b[0m\u001b[1;33m\u001b[0m\u001b[0m\n\u001b[0m",
      "\u001b[0;31mNameError\u001b[0m: name 'P' is not defined"
     ]
    }
   ],
   "source": [
    ".\n",
    ".\n",
    "\n",
    "P"
   ]
  },
  {
   "cell_type": "code",
   "execution_count": 1,
   "metadata": {
    "collapsed": false
   },
   "outputs": [
    {
     "ename": "NameError",
     "evalue": "name 'data' is not defined",
     "output_type": "error",
     "traceback": [
      "\u001b[0;31m---------------------------------------------------------------------------\u001b[0m",
      "\u001b[0;31mNameError\u001b[0m                                 Traceback (most recent call last)",
      "\u001b[0;32m<ipython-input-1-a67c259cf861>\u001b[0m in \u001b[0;36m<module>\u001b[0;34m()\u001b[0m\n\u001b[0;32m----> 1\u001b[0;31m \u001b[0mprint\u001b[0m\u001b[1;33m(\u001b[0m\u001b[0mdata\u001b[0m\u001b[1;33m[\u001b[0m\u001b[1;36m0\u001b[0m\u001b[1;33m]\u001b[0m\u001b[1;33m)\u001b[0m\u001b[1;33m\u001b[0m\u001b[0m\n\u001b[0m",
      "\u001b[0;31mNameError\u001b[0m: name 'data' is not defined"
     ]
    }
   ],
   "source": [
    "print(data[0])"
   ]
  },
  {
   "cell_type": "code",
   "execution_count": null,
   "metadata": {
    "collapsed": true
   },
   "outputs": [],
   "source": []
  }
 ],
 "metadata": {
  "anaconda-cloud": {},
  "kernelspec": {
   "display_name": "Python [default]",
   "language": "python",
   "name": "python3"
  },
  "language_info": {
   "codemirror_mode": {
    "name": "ipython",
    "version": 3
   },
   "file_extension": ".py",
   "mimetype": "text/x-python",
   "name": "python",
   "nbconvert_exporter": "python",
   "pygments_lexer": "ipython3",
   "version": "3.5.2"
  }
 },
 "nbformat": 4,
 "nbformat_minor": 2
}
